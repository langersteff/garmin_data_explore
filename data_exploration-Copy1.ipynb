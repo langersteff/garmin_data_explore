{
 "cells": [
  {
   "cell_type": "code",
   "execution_count": 4,
   "metadata": {},
   "outputs": [
    {
     "name": "stdout",
     "output_type": "stream",
     "text": [
      "The autoreload extension is already loaded. To reload it, use:\n",
      "  %reload_ext autoreload\n"
     ]
    }
   ],
   "source": [
    "%load_ext autoreload\n",
    "%autoreload 2\n",
    "\n",
    "# add src to sys-path\n",
    "import sys\n",
    "import os\n",
    "import numpy as np\n",
    "import pandas as pd\n",
    "import matplotlib.pyplot as plt\n",
    "sys.path.append('./src')\n",
    "from matplotlib.pyplot import figure\n",
    "from geopy.distance import geodesic\n",
    "from sklearn.decomposition import PCA\n",
    "\n",
    "from data_processing.mtb_data_provider import MtbDataProvider\n",
    "from data_processing.mtb_data_tagger import MtbDataTagger\n",
    "from data_processing.mtb_classifier import MtbClassifier\n",
    "from visualization.mtb_visualizer import MtbVisualizer\n",
    "from data_processing.helpers import Helpers\n",
    "\n",
    "from sklearn.neural_network import MLPClassifier\n",
    "from sklearn.neighbors import KNeighborsClassifier\n",
    "from sklearn.svm import SVC, LinearSVC\n",
    "from sklearn.gaussian_process import GaussianProcessClassifier\n",
    "from sklearn.gaussian_process.kernels import RBF\n",
    "from sklearn.tree import DecisionTreeClassifier\n",
    "from sklearn.ensemble import RandomForestClassifier, AdaBoostClassifier\n",
    "from sklearn.naive_bayes import GaussianNB\n",
    "from sklearn.discriminant_analysis import QuadraticDiscriminantAnalysis\n",
    "from sklearn.cluster import KMeans, DBSCAN, AffinityPropagation, SpectralClustering, MeanShift, AgglomerativeClustering\n",
    "from sklearn.mixture import GaussianMixture\n",
    "\n",
    "import geopandas as gpd\n",
    "from geopandas import GeoDataFrame\n",
    "\n",
    "from numpy.random import seed\n",
    "seed(42)\n",
    "from tensorflow import set_random_seed\n",
    "set_random_seed(42)\n",
    "\n",
    "SPEED_THRESHOLD = .3\n",
    "LATITUDE_KEY = 'position_lat'\n",
    "LONGITUDE_KEY = 'position_long'"
   ]
  },
  {
   "cell_type": "code",
   "execution_count": 5,
   "metadata": {},
   "outputs": [],
   "source": [
    "mtb_data_provider = MtbDataProvider()\n",
    "mtb_data_tagger = MtbDataTagger()\n",
    "mtb_visualizer = MtbVisualizer()\n",
    "mtb_classifier = MtbClassifier()"
   ]
  },
  {
   "cell_type": "markdown",
   "metadata": {},
   "source": [
    "## Data Export"
   ]
  },
  {
   "cell_type": "code",
   "execution_count": 86,
   "metadata": {},
   "outputs": [],
   "source": [
    "warngau_files=['warngaus2_1', 'warngaus2_2']#'warngaus1_1', 'warngaus1_2', 'warngaus1_3', \n",
    "location_based_label_files=['warngaus2_labels', 'warngaus2_labels']\n",
    "columns = ['SensorAccelerationX_HD', 'SensorAccelerationY_HD', 'SensorAccelerationZ_HD','altitude', 'speed', 'heart_rate', 'SensorHeading', LATITUDE_KEY, LONGITUDE_KEY]\n",
    "#window_lengths = [50, 100, 150, 200, 300]\n",
    "#sub_sample_lengths = [25, 50, 75, 100, 150]\n",
    "window_lengths = [50, 150, 300]\n",
    "sub_sample_lengths = [25, 75, 150]\n",
    "nums_clusters = [3, 4, 6, 9, 12]# TODO: ,4,6,8,12,16]\n",
    "prefix='warngau_s2'"
   ]
  },
  {
   "cell_type": "markdown",
   "metadata": {},
   "source": [
    "### Classification"
   ]
  },
  {
   "cell_type": "code",
   "execution_count": null,
   "metadata": {},
   "outputs": [],
   "source": [
    "X_neureuth_tmp = data_neureuth\n",
    "y_neureuth_tmp = osm_difficulty_results\n",
    "\n",
    "X_neureuth = []\n",
    "y_neureuth = []\n",
    "\n",
    "# Ignore Sections without difficulty rating\n",
    "for i in range(len(y_neureuth_tmp)):\n",
    "    if y_neureuth_tmp[i] > 0:\n",
    "        X_neureuth.append(X_neureuth_tmp[i])\n",
    "        y_neureuth.append(y_neureuth_tmp[i])\n",
    "        \n",
    "\n",
    "X_neureuth = np.asarray(X_neureuth)\n",
    "y_neureuth = np.asarray(y_neureuth)"
   ]
  },
  {
   "cell_type": "code",
   "execution_count": null,
   "metadata": {},
   "outputs": [],
   "source": [
    "classifiers = [\n",
    "KNeighborsClassifier(3),\n",
    "#LinearSVC(C=0.025),\n",
    "DecisionTreeClassifier(max_depth=5, random_state=42),\n",
    "RandomForestClassifier(max_depth=5, n_estimators=10, random_state=42),\n",
    "#MLPClassifier(alpha=1, max_iter=20000, random_state=42),\n",
    "#KMeans(n_clusters=2),\n",
    "]\n",
    "\n",
    "names = [\n",
    "    \"Nearest Neighbors\", \n",
    "#    \"Linear SVM\", \n",
    "    \"Decision Tree\", \n",
    "    \"Random Forest\", \n",
    "#    \"Neural Net\", \n",
    "#   \"KMeans\",\n",
    "]\n",
    "\n",
    "mtb_classifier.run_classification(X_neureuth, y_neureuth, classifiers, names, mtb_data_provider, mtb_visualizer, n_splits=30, clear_outliers=False, print_plots=False)"
   ]
  },
  {
   "cell_type": "markdown",
   "metadata": {},
   "source": [
    "### CNN"
   ]
  },
  {
   "cell_type": "code",
   "execution_count": null,
   "metadata": {},
   "outputs": [],
   "source": [
    "mtb_classifier.run_cnn_model(X_neureuth, y_neureuth, mtb_data_provider, mtb_visualizer, n_conv_blocks=3)"
   ]
  }
 ],
 "metadata": {
  "kernelspec": {
   "display_name": "Python 3",
   "language": "python",
   "name": "python3"
  },
  "language_info": {
   "codemirror_mode": {
    "name": "ipython",
    "version": 3
   },
   "file_extension": ".py",
   "mimetype": "text/x-python",
   "name": "python",
   "nbconvert_exporter": "python",
   "pygments_lexer": "ipython3",
   "version": "3.8.5"
  }
 },
 "nbformat": 4,
 "nbformat_minor": 2
}
