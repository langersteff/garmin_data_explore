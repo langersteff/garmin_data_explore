{
 "cells": [
  {
   "cell_type": "code",
   "execution_count": 117,
   "metadata": {},
   "outputs": [
    {
     "name": "stdout",
     "output_type": "stream",
     "text": [
      "The autoreload extension is already loaded. To reload it, use:\n",
      "  %reload_ext autoreload\n"
     ]
    }
   ],
   "source": [
    "%load_ext autoreload\n",
    "%autoreload 2\n",
    "\n",
    "# add src to sys-path\n",
    "import sys\n",
    "import os\n",
    "import numpy as np\n",
    "import pandas as pd\n",
    "import matplotlib.pyplot as plt\n",
    "sys.path.append('../src')\n",
    "from matplotlib.pyplot import figure\n",
    "import subprocess\n",
    "import requests \n",
    "from xml.etree.ElementTree import fromstring, ElementTree\n",
    "from geopy.distance import geodesic\n",
    "import polyline\n",
    "\n",
    "LATITUDE_KEY = 'position_lat'\n",
    "LONGITUDE_KEY = 'position_long'"
   ]
  },
  {
   "cell_type": "markdown",
   "metadata": {},
   "source": [
    "## Preprocessing"
   ]
  },
  {
   "cell_type": "code",
   "execution_count": 118,
   "metadata": {},
   "outputs": [],
   "source": [
    "def convert_and_read_fit_file(filename):\n",
    "    subprocess.run([\"java\", \"-jar\", \"FitSDKRelease_21.16.00/java/FitCSVTool.jar\", filename + \".fit\"])\n",
    "    data = pd.read_csv(filename + \".csv\")\n",
    "    datav = data.query(\"Message == 'record'\").values\n",
    "    return datav       "
   ]
  },
  {
   "cell_type": "code",
   "execution_count": 119,
   "metadata": {},
   "outputs": [],
   "source": [
    "def filter_data(df):\n",
    "    COLUMNS = ['distance', 'speed', 'heart_rate', 'altitude', 'SensorHeading', 'SensorAccelerationX_HD', 'SensorAccelerationY_HD', 'SensorAccelerationZ_HD', LATITUDE_KEY, LONGITUDE_KEY]\n",
    "    SPEED_THRESHOLD = .5\n",
    "    result = {}\n",
    "\n",
    "    for row in df:\n",
    "        current_object = {}\n",
    "        current_objects = []\n",
    "        current_timestamp = 0\n",
    "        for i in range(len(row)):\n",
    "            column = row[i]\n",
    "\n",
    "            if column == 'timestamp':\n",
    "                current_timestamp = row[i+1]\n",
    "            elif column in COLUMNS:\n",
    "                if column.endswith(\"_HD\"):\n",
    "                    current_object[column] = row[i+1]\n",
    "                # lat/long is written in semicircles\n",
    "                elif column in [LATITUDE_KEY, LONGITUDE_KEY]:\n",
    "                    current_object[column] = float(row[i+1]) * 180.0 / 2**31\n",
    "                else:\n",
    "                    current_object[column] = float(row[i+1])\n",
    "\n",
    "        # SPEED THRESHOLD\n",
    "        if current_object['speed'] >= SPEED_THRESHOLD:\n",
    "            result[current_timestamp] = current_object\n",
    "\n",
    "    return result\n",
    "\n"
   ]
  },
  {
   "cell_type": "code",
   "execution_count": 120,
   "metadata": {},
   "outputs": [],
   "source": [
    "def split_hd_values(data):\n",
    "    result = {}\n",
    "    for timestamp, row in data.items():\n",
    "\n",
    "        if 'SensorAccelerationX_HD' in row:\n",
    "            if (type(row['SensorAccelerationX_HD']) is str):\n",
    "                hd_values_x = row['SensorAccelerationX_HD'].split('|')\n",
    "                hd_values_y = row['SensorAccelerationY_HD'].split('|')\n",
    "                hd_values_z = row['SensorAccelerationZ_HD'].split('|')\n",
    "\n",
    "                for i in range(len(hd_values_x)):\n",
    "                    new_row = row.copy()\n",
    "                    new_row['SensorAccelerationX_HD'] = float(hd_values_x[i])\n",
    "                    new_row['SensorAccelerationY_HD'] = float(hd_values_y[i])\n",
    "                    new_row['SensorAccelerationZ_HD'] = float(hd_values_z[i])\n",
    "                    result[int(timestamp) * 1000 + i*4] = new_row\n",
    "        else:\n",
    "            result[timestamp] = row\n",
    "\n",
    "    return result"
   ]
  },
  {
   "cell_type": "code",
   "execution_count": 121,
   "metadata": {},
   "outputs": [],
   "source": [
    "def get_values_for(data, key):\n",
    "    return [row[key] for row in list(data.values()) if key in row]"
   ]
  },
  {
   "cell_type": "code",
   "execution_count": 163,
   "metadata": {},
   "outputs": [
    {
     "name": "stdout",
     "output_type": "stream",
     "text": [
      "['Data' 12 'record' 'timestamp' '935682165' 's' 'position_lat' '678067126'\n",
      " 'semicircles' 'position_long' -59396870.0 'semicircles' 'distance' 25.61\n",
      " 'm' 'altitude' 597.5999999999998 'm' 'speed' 6.559 'm/s' 'unknown' 100.0\n",
      " nan 'heart_rate' 131.0 'bpm' 'temperature' 29.0 'C' 'enhanced_altitude'\n",
      " 597.5999999999998 'm' 'enhanced_speed' 6.559 'm/s' nan nan nan nan nan\n",
      " nan nan nan nan nan nan nan nan nan nan nan nan nan nan nan nan nan nan\n",
      " nan nan nan nan nan nan nan nan nan nan nan nan nan nan nan nan nan nan\n",
      " nan nan nan nan nan nan nan nan nan nan nan nan nan nan nan nan nan nan\n",
      " nan nan nan nan nan nan nan nan nan nan nan nan nan nan nan nan nan nan\n",
      " nan nan nan nan nan nan nan nan nan nan nan nan nan nan nan nan nan nan\n",
      " nan nan nan nan nan nan nan nan nan nan nan nan nan nan nan nan nan nan\n",
      " nan nan nan nan nan nan nan nan nan nan nan nan nan nan nan nan nan nan\n",
      " nan nan nan nan nan nan nan nan nan nan nan nan nan nan nan nan nan nan\n",
      " nan nan nan nan nan nan nan nan nan nan nan nan nan nan nan nan nan nan\n",
      " nan nan nan nan nan nan nan nan nan nan nan nan nan nan nan nan nan nan\n",
      " nan nan nan nan nan nan nan nan nan nan nan nan nan nan nan nan nan nan\n",
      " nan nan nan nan nan nan nan nan nan nan nan nan nan nan nan nan nan nan\n",
      " nan nan nan nan nan nan nan nan nan nan nan nan nan nan nan nan nan nan\n",
      " nan nan nan nan nan nan nan nan]\n"
     ]
    },
    {
     "name": "stderr",
     "output_type": "stream",
     "text": [
      "/usr/local/lib/python3.7/site-packages/IPython/core/interactiveshell.py:3209: DtypeWarning: Columns (16,23,43,44,47,50,53,56,59,62,65,68,71,83,86,91,92,95,104,107,115,125,128,142,219,222,225,228,231,234,237,240,243,246,249,252,255,258,261,264,267,270,273,276,279) have mixed types. Specify dtype option on import or set low_memory=False.\n",
      "  if (yield from self.run_code(code, result)):\n"
     ]
    }
   ],
   "source": [
    "data_1 = convert_and_read_fit_file(\"warngau_s1\")\n",
    "data_2 = convert_and_read_fit_file(\"warngau_s2\")\n",
    "data_dif = convert_and_read_fit_file(\"fortwilliam\") #kitzbuehel, dragonbacktrail, fortwilliam, witchestrail2x\n",
    "print(data_dif[5])       "
   ]
  },
  {
   "cell_type": "code",
   "execution_count": 164,
   "metadata": {},
   "outputs": [],
   "source": [
    "filtered_data_1 = filter_data(data_1)\n",
    "filtered_data_2 = filter_data(data_2)\n",
    "filtered_data_dif = filter_data(data_dif)\n",
    "\n",
    "filtered_split_data_1 = split_hd_values(filtered_data_1)\n",
    "filtered_split_data_2 = split_hd_values(filtered_data_2)\n",
    "filtered_split_data_dif = split_hd_values(filtered_data_dif)"
   ]
  },
  {
   "cell_type": "markdown",
   "metadata": {},
   "source": [
    "##  Exploration"
   ]
  },
  {
   "cell_type": "code",
   "execution_count": null,
   "metadata": {},
   "outputs": [],
   "source": [
    "timestamps = list(filtered_split_data_1.keys())\n",
    "distance = get_values_for(filtered_split_data_1, 'distance')[1::25]\n",
    "heart_rate = get_values_for(filtered_split_data_1, 'heart_rate')[1::25]\n",
    "altitude = get_values_for(filtered_split_data_1, 'altitude')[1::25]\n",
    "speed = get_values_for(filtered_split_data_1, 'speed')[1::25]\n",
    "sensor_heading = get_values_for(filtered_split_data_1, 'SensorHeading')[1::25]\n",
    "accX_HD = get_values_for(filtered_split_data_1, 'SensorAccelerationX_HD')\n",
    "accY_HD = get_values_for(filtered_split_data_1, 'SensorAccelerationY_HD')\n",
    "accZ_HD = get_values_for(filtered_split_data_1, 'SensorAccelerationZ_HD')\n"
   ]
  },
  {
   "cell_type": "code",
   "execution_count": null,
   "metadata": {},
   "outputs": [],
   "source": [
    "timestamps_2 = list(filtered_split_data_2.keys())\n",
    "distance_2 = get_values_for(filtered_split_data_2, 'distance')[1::25]\n",
    "heart_rate_2 = get_values_for(filtered_split_data_2, 'heart_rate')[1::25]\n",
    "altitude_2 = get_values_for(filtered_split_data_2, 'altitude')[1::25]\n",
    "speed_2 = get_values_for(filtered_split_data_2, 'speed')[1::25]\n",
    "sensor_heading_2 = get_values_for(filtered_split_data_2, 'SensorHeading')[1::25]\n",
    "accX_HD_2 = get_values_for(filtered_split_data_2, 'SensorAccelerationX_HD')\n",
    "accY_HD_2 = get_values_for(filtered_split_data_2, 'SensorAccelerationY_HD')\n",
    "accZ_HD_2 = get_values_for(filtered_split_data_2, 'SensorAccelerationZ_HD')"
   ]
  },
  {
   "cell_type": "code",
   "execution_count": null,
   "metadata": {},
   "outputs": [],
   "source": [
    "figure(num=None, figsize=(15, 5), dpi=80, facecolor='w', edgecolor='k')\n",
    "plt.plot(speed)\n",
    "plt.plot(speed_2)\n",
    "plt.legend(['Trail 1', 'Trail 2'])\n",
    "plt.ylabel('Speed in m/s')"
   ]
  },
  {
   "cell_type": "code",
   "execution_count": null,
   "metadata": {},
   "outputs": [],
   "source": [
    "print(\"Mean Speed S1\")\n",
    "print(np.mean(speed))\n",
    "print(\"Mean Speed S2\")\n",
    "print(np.mean(speed_2))\n",
    "\n",
    "print(\"\\nMedian Speed S1\")\n",
    "print(np.median(speed))\n",
    "print(\"Median Speed S2\")\n",
    "print(np.median(speed_2))\n",
    "\n",
    "print(\"\\nMax Speed S1\")\n",
    "print(np.max(speed))\n",
    "print(\"Max Speed S2\")\n",
    "print(np.max(speed_2))"
   ]
  },
  {
   "cell_type": "code",
   "execution_count": null,
   "metadata": {
    "scrolled": false
   },
   "outputs": [],
   "source": [
    "figure(num=None, figsize=(15, 5), dpi=80, facecolor='w', edgecolor='k')\n",
    "plt.plot(altitude)\n",
    "plt.plot(altitude_2)\n",
    "plt.legend(['Trail 1', 'Trail 2'])\n",
    "plt.ylabel('Altitude in m a.s.l.')"
   ]
  },
  {
   "cell_type": "code",
   "execution_count": null,
   "metadata": {
    "scrolled": false
   },
   "outputs": [],
   "source": [
    "figure(num=None, figsize=(15, 5), dpi=80, facecolor='w', edgecolor='k')\n",
    "plt.plot(sensor_heading)\n",
    "plt.plot(sensor_heading_2)\n",
    "plt.legend(['Trail 1', 'Trail 2'])\n",
    "plt.ylabel('Heading')"
   ]
  },
  {
   "cell_type": "code",
   "execution_count": null,
   "metadata": {},
   "outputs": [],
   "source": [
    "figure(num=None, figsize=(15, 5), dpi=80, facecolor='w', edgecolor='k')\n",
    "plt.plot(heart_rate)\n",
    "plt.plot(heart_rate_2)\n",
    "plt.legend(['Trail 1', 'Trail 2'])\n",
    "plt.ylabel('Heart Rate')"
   ]
  },
  {
   "cell_type": "code",
   "execution_count": null,
   "metadata": {},
   "outputs": [],
   "source": [
    "figure(num=None, figsize=(15, 5), dpi=80, facecolor='w', edgecolor='k')\n",
    "plt.plot(accX_HD)\n",
    "plt.plot(accY_HD)\n",
    "plt.plot(accZ_HD)\n",
    "plt.legend(['X', 'Y', 'Z'])\n",
    "plt.ylabel('Acceleration Trail 1 in millig')"
   ]
  },
  {
   "cell_type": "code",
   "execution_count": null,
   "metadata": {},
   "outputs": [],
   "source": [
    "figure(num=None, figsize=(15, 5), dpi=80, facecolor='w', edgecolor='k')\n",
    "plt.plot(accX_HD_2)\n",
    "plt.plot(accY_HD_2)\n",
    "plt.plot(accZ_HD_2)\n",
    "plt.legend(['X', 'Y', 'Z'])\n",
    "plt.ylabel('Acceleration Trail 2 in millig')"
   ]
  },
  {
   "cell_type": "code",
   "execution_count": null,
   "metadata": {},
   "outputs": [],
   "source": [
    "print(\"Mean Acc S1\")\n",
    "print(np.mean(accX_HD), np.mean(accY_HD), np.mean(accZ_HD))\n",
    "print(\"Mean Acc S2\")\n",
    "print(np.mean(accX_HD_2), np.mean(accY_HD_2), np.mean(accZ_HD_2))\n",
    "\n",
    "print(\"\\nMedian Acc S1\")\n",
    "print(np.median(accX_HD), np.mean(accY_HD), np.mean(accZ_HD))\n",
    "print(\"Median Acc S2\")\n",
    "print(np.median(accX_HD_2), np.median(accY_HD_2), np.median(accZ_HD_2))\n",
    "\n",
    "print(\"\\nMax Acc S1\")\n",
    "print(np.max(accX_HD), np.max(accY_HD), np.max(accZ_HD))\n",
    "print(\"Max Acc S2\")\n",
    "print(np.max(accX_HD_2), np.max(accY_HD_2), np.max(accZ_HD_2))"
   ]
  },
  {
   "cell_type": "code",
   "execution_count": null,
   "metadata": {},
   "outputs": [],
   "source": [
    "def calculate_descent_per_step(altitude):\n",
    "    descent = []\n",
    "    for i in range(len(altitude) - 1):\n",
    "        current_altitude = altitude[i]\n",
    "        next_altitude = altitude[i + 1]\n",
    "        descent.append(current_altitude - next_altitude)\n",
    "    return descent\n",
    "\n",
    "descent_1 = calculate_descent_per_step(altitude)\n",
    "descent_2 = calculate_descent_per_step(altitude_2)\n",
    "figure(num=None, figsize=(15, 5), dpi=80, facecolor='w', edgecolor='k')\n",
    "plt.plot(descent_1)\n",
    "plt.plot(descent_2)\n",
    "plt.ylabel('descent')\n",
    "    "
   ]
  },
  {
   "cell_type": "code",
   "execution_count": null,
   "metadata": {},
   "outputs": [],
   "source": [
    "print(\"Mean Descent S1\")\n",
    "print(np.mean(descent_1))\n",
    "print(\"Mean Descent S2\")\n",
    "print(np.mean(descent_2))\n",
    "\n",
    "print(\"\\nMedian Descent S1\")\n",
    "print(np.median(descent_1))\n",
    "print(\"Median Descent S2\")\n",
    "print(np.median(descent_2))\n",
    "\n",
    "print(\"\\nMax Descent S1\")\n",
    "print(np.max(descent_1))\n",
    "print(\"Max Descent S2\")\n",
    "print(np.max(descent_2))"
   ]
  },
  {
   "cell_type": "markdown",
   "metadata": {},
   "source": [
    "## Auto Tagging"
   ]
  },
  {
   "cell_type": "code",
   "execution_count": 124,
   "metadata": {},
   "outputs": [],
   "source": [
    "def get_bounding_box_for_recording(data, padding=0.):\n",
    "    latitudes = get_values_for(data, LATITUDE_KEY)[1::25]\n",
    "    longitudes = get_values_for(data, LONGITUDE_KEY)[1::25]\n",
    "\n",
    "    min_latitude = np.min(latitudes)\n",
    "    max_latitude = np.max(latitudes)\n",
    "    min_longitude = np.min(longitudes)\n",
    "    max_longitude = np.max(longitudes)\n",
    "    \n",
    "    top_left = (max_latitude + padding, min_longitude - padding)\n",
    "    bottom_right = (min_latitude - padding, max_longitude + padding)\n",
    "    \n",
    "    return (top_left, bottom_right)"
   ]
  },
  {
   "cell_type": "code",
   "execution_count": 125,
   "metadata": {},
   "outputs": [],
   "source": [
    "#https://overpass-api.de/api/map?bbox=11.7020,47.6756,11.9303,47.7750\n",
    "def fetch_area_from_openstreetmap(top_left, bottom_right):\n",
    "    bbox= 'bbox=' + str(top_left[1]) + ',' + str(bottom_right[0]) + ',' + str(bottom_right[1]) + ',' + str(top_left[0])\n",
    "    url = 'https://overpass-api.de/api/map?' + bbox\n",
    "    print(\"fetching from: \", url)\n",
    "    response = requests.get(url)\n",
    "    return response\n"
   ]
  },
  {
   "cell_type": "code",
   "execution_count": 126,
   "metadata": {},
   "outputs": [],
   "source": [
    "#https://www.trailforks.com/api/1/maptrails?output=encoded&filter=bbox%3A%3A47.41852456703782%2C12.356023974716663%2C47.41852456703782%2C12.356023974716663&api_key=docs\n",
    "def fetch_area_from_trailforks(top_left, bottom_right):\n",
    "    bbox= 'bbox::' + str(top_left[0]) + ',' + str(top_left[1]) + ',' + str(bottom_right[0]) + ',' + str(bottom_right[1])\n",
    "    url= 'https://www.trailforks.com/api/1/trails?scope=track&filter=' + bbox + '&api_key=docs'\n",
    "    print(\"fetching from: \", url)\n",
    "    response = requests.get(url)\n",
    "    return response\n"
   ]
  },
  {
   "cell_type": "code",
   "execution_count": 127,
   "metadata": {},
   "outputs": [],
   "source": [
    "def create_position_meta_list_for_trailforks(top_left, bottom_right, response = None):\n",
    "    if response is None:\n",
    "        response = fetch_area_from_trailforks(top_left, bottom_right)\n",
    "    datas = response.json()['data']\n",
    "\n",
    "    for data in datas:\n",
    "        encoded_path = data['track']['encodedPath']\n",
    "        decoded_path = polyline.decode(encoded_path)\n",
    "        del data['track']\n",
    "        data['positions'] = decoded_path\n",
    "    \n",
    "    return datas"
   ]
  },
  {
   "cell_type": "code",
   "execution_count": 128,
   "metadata": {},
   "outputs": [],
   "source": [
    "def create_position_meta_map_for_openstreetmap(top_left, bottom_right, response = None):\n",
    "    if response is None:\n",
    "        response = fetch_area_from_openstreetmap(top_left, bottom_right)\n",
    "    tree = ElementTree(fromstring(response.content))\n",
    "    root = tree.getroot()\n",
    "    position_nodes = {}\n",
    "    mapped_nodes = {}\n",
    "\n",
    "    for child in root:\n",
    "        if (child.tag == 'node'):\n",
    "            position_nodes[child.attrib['id']] = {'lat': child.attrib['lat'], 'lon': child.attrib['lon']}\n",
    "\n",
    "    for child in root:\n",
    "        if (child.tag == 'way'):\n",
    "            metas = {}\n",
    "\n",
    "            for sub_child in child:\n",
    "                if (sub_child.tag == 'tag'):\n",
    "                    metas[sub_child.attrib['k']] = sub_child.attrib['v']\n",
    "\n",
    "            for sub_child in child:\n",
    "                if (sub_child.tag == 'nd'):\n",
    "                    node = position_nodes[sub_child.attrib['ref']]\n",
    "                    mapped_nodes[sub_child.attrib['ref']] = {**node, **metas}\n",
    "                    \n",
    "    return mapped_nodes\n"
   ]
  },
  {
   "cell_type": "code",
   "execution_count": 129,
   "metadata": {},
   "outputs": [],
   "source": [
    "def find_meta_data_for_recording(data):\n",
    "    latitudes = get_values_for(data, LATITUDE_KEY)[1::25]\n",
    "    longitudes = get_values_for(data, LONGITUDE_KEY)[1::25]\n",
    "    closest_items = []\n",
    "    \n",
    "    for i in range(len(latitudes)):\n",
    "        lat = latitudes[i]\n",
    "        lon = longitudes[i]\n",
    "        closest_item = {}\n",
    "        closest_item_trailforks = {}\n",
    "        smallest_distance = DISTANCE_META_THRESHOLD\n",
    "        smallest_distance_trailforks = DISTANCE_META_THRESHOLD\n",
    "        origin = (lat, lon)\n",
    "\n",
    "        #TODO: Rename variables\n",
    "        # Loop through OSM data\n",
    "        for _, position_meta in position_meta_map.items():\n",
    "            \n",
    "                if 'mtb:scale' not in position_meta.keys() and 'mtb:type' not in position_meta.keys():\n",
    "                    continue\n",
    "                \n",
    "                # Check if the item is in distance\n",
    "                dest = (position_meta['lat'], position_meta['lon'])\n",
    "                distance = geodesic(origin, dest).meters\n",
    "                \n",
    "                # Set as the closest OSM item\n",
    "                if distance < smallest_distance:\n",
    "                    closest_item = position_meta\n",
    "                    smallest_distance = distance\n",
    "                    \n",
    "        # Loop through Trailforks data\n",
    "        for position_meta_trailforks in position_meta_list:\n",
    "            # Loop through positions in trailforks data\n",
    "            for latitude, longitude in position_meta_trailforks['positions']:\n",
    "                \n",
    "                # Check if the item is in distance\n",
    "                dest = (latitude, longitude)\n",
    "                distance = geodesic(origin, dest).meters\n",
    "\n",
    "                # Set as the closest trailforks item\n",
    "                if distance < smallest_distance_trailforks:\n",
    "                    closest_item_trailforks = position_meta_trailforks\n",
    "                    smallest_distance_trailforks = distance\n",
    "                    \n",
    "        if closest_item or closest_item_trailforks:\n",
    "            closest_items.append({**closest_item, **closest_item_trailforks})\n",
    "        elif len(closest_items) > 0:\n",
    "            closest_items.append(closest_items[-1])\n",
    "        else:\n",
    "            closest_items.append({})\n",
    "            \n",
    "    for closest_item in closest_items:\n",
    "        if 'encodedPath' in closest_item:\n",
    "            del closest_item['encodedPath']\n",
    "        if 'positions' in closest_item:\n",
    "            del closest_item['positions']\n",
    "        if 'encodedLevels' in closest_item:\n",
    "            del closest_item['encodedLevels']\n",
    "        \n",
    "    return closest_items"
   ]
  },
  {
   "cell_type": "code",
   "execution_count": 165,
   "metadata": {},
   "outputs": [
    {
     "name": "stdout",
     "output_type": "stream",
     "text": [
      "fetching from:  https://overpass-api.de/api/map?bbox=-5.030291392207146,56.80459801599383,-4.948178758174181,56.88046344995499\n",
      "fetching from:  https://www.trailforks.com/api/1/trails?scope=track&filter=bbox::56.88046344995499,-5.030291392207146,56.80459801599383,-4.948178758174181&api_key=docs\n"
     ]
    }
   ],
   "source": [
    "top_left, bottom_right = get_bounding_box_for_recording(filtered_split_data_dif, padding=0.03)\n",
    "response_osm = fetch_area_from_openstreetmap(top_left, bottom_right)\n",
    "response_trailforks = fetch_area_from_trailforks(top_left, bottom_right)"
   ]
  },
  {
   "cell_type": "code",
   "execution_count": 166,
   "metadata": {
    "scrolled": false
   },
   "outputs": [],
   "source": [
    "DISTANCE_META_THRESHOLD = 10# in meters\n",
    "position_meta_map = create_position_meta_map_for_openstreetmap(top_left, bottom_right, response_osm)\n",
    "position_meta_list = create_position_meta_list_for_trailforks(top_left, bottom_right, response_trailforks)\n",
    "closest_items = find_meta_data_for_recording(filtered_split_data_dif)"
   ]
  },
  {
   "cell_type": "code",
   "execution_count": 161,
   "metadata": {},
   "outputs": [
    {
     "data": {
      "text/plain": [
       "b'{\"error\":0,\"message\":\"\",\"data\":[{\"trailid\":\"6640\",\"vid\":\"5\",\"title\":\"Fort William World Cup DH Track\",\"rid\":\"4306\",\"difficulty\":\"8\",\"activitytype\":1,\"trailtype\":\"1\",\"biketype\":\"1\",\"physical_rating\":\"4\",\"ttfs\":\"17,16,18,21\",\"wet_weather\":\"1\",\"season\":\"May-Sep\",\"unsanctioned\":\"0\",\"hidden\":\"0\",\"rating\":\"100\",\"votes\":\"17\",\"ridden\":\"287\",\"faved\":\"1\",\"status\":\"1\",\"products\":\"\",\"total_comments\":\"3\",\"total_photos\":\"3661\",\"total_videos\":\"109\",\"total_reports\":\"6\",\"total_poi\":\"0\",\"total_supporters\":\"0\",\"total_osmways\":\"6\",\"created\":\"1405787387\",\"changed\":\"1527805078\",\"last_comment_ts\":\"0\",\"last_report_ts\":\"1569782105\",\"last_totals_ts\":\"1574930911\",\"alias\":\"fort-william-world-cup-dh-track\",\"approved\":\"0\",\"userid\":\"904521\",\"published\":\"1\",\"dirty\":\"0\",\"views\":\"20660\",\"trackid\":\"188608\",\"condition\":\"4\",\"confirmid\":\"2699\",\"download_disable\":\"0\",\"usage\":\"1\",\"direction\":\"1\",\"opendate\":\"0\",\"strava_segment\":\"0\",\"strava_segment_reverse\":\"0\",\"legacy_id\":\"0\",\"closed\":\"0\",\"climb_difficulty\":\"0\",\"land_manager\":\"\",\"land_manager_manual\":\"0\",\"refnum\":\"\",\"global_rank\":\"942\",\"global_rank_score\":\"55.382\",\"total_checkins\":\"765\",\"total_ridelogs\":\"608\",\"land_manager_url\":\"\",\"aka\":\"off beat downhill\",\"search_terms\":\"\",\"search\":\"Fort William World Cup DH Track off beat downhill\",\"featured_photo\":\"0\",\"featured_video\":\"0\",\"skidmap_id\":\"0\",\"osmway\":\"0\",\"password\":\"\",\"funding_goal\":\"1000\",\"funding_usd\":\"0\",\"funding_currency\":\"\",\"watchmen\":\"0\",\"cleanup\":\"0\",\"cleanup2\":\"0\",\"cleanup3\":\"\",\"leaderboard_disable\":\"0\",\"popularity_colour\":\"ff5100\",\"popularity_score\":\"85\",\"season_type\":\"0\",\"alpine\":\"0\",\"ebike\":\"0\",\"color\":\"\",\"archived\":\"0\",\"disable_sensitive_check\":\"0\",\"planned\":\"0\",\"family_friendly\":\"0\",\"total_socialmedia\":\"0\",\"hide_association\":\"0\",\"cover_photo\":\"8368449\",\"trail_association\":\"0\",\"direction_flagged\":\"0\",\"direction_forward\":\"99\",\"direction_backward\":\"1\",\"inventory_exclude\":\"0\",\"difficulty_user_avg\":\"0\",\"difficulty_votes\":\"0\",\"imagemap3\":\"1\",\"connector\":\"0\",\"sac_scale\":\"0\",\"trail_visibility\":\"0\",\"datasource\":\"tf\",\"verified\":\"1\",\"snow_grooming\":\"0\",\"osm_import_job\":\"0\",\"dogs_allowed\":\"1\",\"restricted_access\":\"0\",\"amtb_rating\":\"0\",\"id\":\"6640\",\"type\":\"trail\",\"description\":\"Nevis Range Downhill ... the UK\\'s ONLY OFFICIAL World Cup DH\\\\r\\\\n\\\\r\\\\nThe Lowdown\\\\r\\\\n\\\\r\\\\n    2015 Season - mid May - mid September 2015\\\\r\\\\n    Times - gondola uplift available 10.15am - 3.45pm\\\\r\\\\n    Open - every day in the season other than certain race, maintenance & bad weather days \\\\r\\\\n    Race day & maintenance closures - see above\\\\r\\\\n    Weather closures - in certain circumstances weather can affect gondola uplift for bike and the trails\\\\r\\\\n    Age restrictions - riders need to be 12 years and above\\\\r\\\\n    Participation Statement - all riders must complete one, downloadable here. Riders aged 15 and under need to get a parent or guardian to sign their Participation Statement\\\\r\\\\n    Frequent riders card - \\xc2\\xa33, means you don\\'t need to complete a Participation Statement each time you ride\\\\r\\\\n    Code of Practice - all riders must adhere to this\\\\r\\\\n    Uplift tickets - these are not transferable\\\\r\\\\n\\\\r\\\\nThe Statistics\\\\r\\\\n\\\\r\\\\n    Grading - orange extreme (previously graded \\'black\\')\\\\r\\\\n    Access - gondola uplift\\\\r\\\\n    Length - 2.82km\\\\r\\\\n    Start altitude - 655m\\\\r\\\\n    Finish altitude - 100m\\\\r\\\\n    Vertical descent - 555m\\\\r\\\\n    Finish - Nevis Range car park\\\\r\\\\n    Fastest time - 4:35:70\",\"access_info\":\"\",\"source_text\":\"http://bike.nevisrange.co.uk/world-cup-downhill.asp\",\"source_link\":\"http://bike.nevisrange.co.uk/world-cup-downhill.asp\",\"disclaimer\":\"\",\"amtb_info\":\"\",\"act_mtb\":\"1\",\"act_ebike\":\"0\",\"act_hike\":\"0\",\"act_moto\":\"0\",\"act_trailrun\":\"0\",\"act_atv\":\"0\",\"act_snowshoe\":\"0\",\"act_skialpine\":\"0\",\"act_skixc\":\"0\",\"act_skibc\":\"0\",\"act_horse\":\"0\",\"act_snowmobile\":\"0\",\"act_mototrials\":\"0\",\"latitude\":\"56.835898\",\"longitude\":\"-4.972923\",\"activitytypes\":[1],\"track\":{\"latitude\":\"56.835898,56.835851,56.836062,56.836314,56.836514,56.836772,56.836966,56.837101,56.837254,56.837712,56.838076,56.838862,56.838909,56.838868,56.838962,56.838997,56.839144,56.839267,56.839302,56.839396,56.839648,56.83993,56.840194,56.840364,56.840458,56.840528,56.840469,56.840422,56.840533,56.840574,56.840551,56.840639,56.840759,56.840839,56.840869,56.840727,56.840759,56.840627,56.840639,56.840689,56.840769,56.840709,56.840769,56.840869,56.840949,56.840874,56.840709,56.840789,56.840949,56.841169,56.841329,56.841419,56.841554,56.841695,56.841842,56.841983,56.842189,56.842399,56.842499,56.842619,56.842792,56.84295,56.843091,56.843185,56.843232,56.843238,56.843373,56.843549,56.843754,56.84393,56.84403,56.844095,56.844142,56.844242,56.844283,56.844283,56.844336,56.844419,56.844469,56.844488,56.844676,56.844829,56.84494,56.845189,56.845249,56.845339,56.845486,56.845721,56.845979,56.846237,56.846431,56.84656,56.846806,56.84707,56.847193,56.847304,56.847369,56.847551,56.84778,56.847997,56.848191,56.848414,56.848549,56.848731,56.848977,56.849124,56.849282,56.849693,56.849892,56.850056,56.85022,56.850349,56.850508,56.850688,56.850718,56.850871,56.850977,56.851438\",\"longitude\":\"-4.972923,-4.973417,-4.973503,-4.973514,-4.973246,-4.973042,-4.973139,-4.972935,-4.972806,-4.972881,-4.973031,-4.973417,-4.973599,-4.97376,-4.973921,-4.974232,-4.974286,-4.974501,-4.974898,-4.97522,-4.97522,-4.975027,-4.97493,-4.975069,-4.975369,-4.97582,-4.976077,-4.976334,-4.976516,-4.976709,-4.977063,-4.977578,-4.977899,-4.978369,-4.978449,-4.978587,-4.978959,-4.979402,-4.979531,-4.979669,-4.979779,-4.980056,-4.980279,-4.980409,-4.980489,-4.980711,-4.981449,-4.981699,-4.981799,-4.981789,-4.981739,-4.98187,-4.982299,-4.982739,-4.983039,-4.983339,-4.983458,-4.983368,-4.983296,-4.983278,-4.983285,-4.983146,-4.983125,-4.983222,-4.983501,-4.983737,-4.984188,-4.984349,-4.984435,-4.984424,-4.98466,-4.984971,-4.985336,-4.985593,-4.985829,-4.986065,-4.986237,-4.9864,-4.98696,-4.98716,-4.987353,-4.98752,-4.987686,-4.9878,-4.98799,-4.988308,-4.988737,-4.989263,-4.989617,-4.989885,-4.990121,-4.99026,-4.990453,-4.990635,-4.990807,-4.991064,-4.99144,-4.991676,-4.991783,-4.991955,-4.992202,-4.992545,-4.992867,-4.993135,-4.993382,-4.993629,-4.993886,-4.994798,-4.995184,-4.995581,-4.99601,-4.996278,-4.996449,-4.996809,-4.997029,-4.997372,-4.997812,-4.998708\",\"altitude\":\"664.9,662.8,657.7,652.5,650.8,647.3,643,641.8,639.9,630.7,623.7,608.5,605.6,604.3,600.9,596.5,593.2,589.5,583.5,578.1,575.9,577.6,580.8,579.5,574.9,566.9,561.8,556.7,553,548.9,541.5,529,520.2,507.8,505.2,504.7,495.3,489,486.1,482.1,478,474.1,468.3,463.3,459.7,457.9,451.5,445.8,439.9,433.8,429.3,424.8,416.1,408.1,401.6,395.6,389.2,384.4,382.3,379.2,374.5,371.1,367.3,364.1,360.7,358.6,350.5,344,337.3,332.1,326.1,320.5,315.8,310.3,306.8,304.5,301.2,296.9,289.2,286.3,277.5,269.8,264,253.9,250.3,244.8,237,227.8,219.6,213.9,210.6,208.4,203.8,198.8,196.7,194.8,193.7,189.9,185,179.7,175.1,169.5,165,159.6,154.5,151.4,148.4,141.3,138.7,136.2,132.7,129.9,126.6,122.2,120.7,116.5,113.3,104.9\",\"distance\":\"0,30.481,54.504,82.516,110.073,141.31,163.66,183.124,201.847,252.946,294.41,384.851,397.085,407.88,422.194,441.494,458.156,477.067,501.51,523.696,551.7,585.161,615.085,635.779,656.794,685.289,702.23,718.701,735.27,747.855,769.523,802.318,825.951,855.87,861.766,879.637,902.526,933.189,941.142,951.203,962.327,980.436,995.542,1009.177,1019.31,1035.17,1083.635,1101.24,1120.03,1144.485,1162.523,1175.307,1205.39,1236.385,1260.866,1284.907,1308.914,1332.883,1344.826,1358.206,1377.435,1396.92,1412.641,1424.636,1442.379,1456.738,1487.985,1509.854,1533.227,1552.796,1570.94,1591.175,1613.965,1633.134,1648.183,1662.526,1674.524,1688.059,1722.544,1734.881,1758.857,1778.658,1794.593,1823.117,1836.451,1858.212,1888.979,1930.257,1966.102,1999.076,2024.969,2041.608,2071.355,2102.708,2119.915,2139.817,2163.781,2188.575,2214.84,2241.122,2267.391,2299.773,2324.43,2350.397,2381.583,2403.767,2427.265,2499.082,2531.319,2561.553,2593.361,2615.057,2635.555,2665.197,2678.975,2705.873,2735.09,2809.853\",\"encodedPath\":\"iw{yIxgj]F`Bi@Pq@@g@u@s@g@e@P[g@]Y{ANgA\\\\\\\\}CjAGb@F`@S^E|@]HWj@GlAQ~@q@?y@e@s@Sa@ZQz@MxARfBUb@Gd@BfAOdBW~@O|AENZZEhAXxAAXIXOTJv@Kj@c@h@Ll@`@pCOp@_@Rk@A_@IQXw@lDy@vBg@Vi@QSMWCc@@_@[[CQRIv@?l@[xAa@^i@Pc@ASl@K~@IfASr@Gl@?n@I`@O^MvCcAfAW`@o@T]dB]tAo@hBq@dAs@t@aAhAeBjAW`@Ur@KhAe@n@m@Ti@`@g@p@k@bAY~@e@t@o@p@}@bBqAtDg@lAaAbDWt@_@`@c@fAEj@_@dASvA{ApD\",\"encodedLevels\":\"PCDBACB@DAEDAAABAB@EB@CG@BB@AB@@?CBAC?@AABC?BFB@D@@EB?A?ABAE?ADAABD?AA@A?AE@BC?AC@?BC@ACA@AC@A@AD?@A@@B@@BP\"}},{\"trailid\":\"18708\",\"vid\":\"5\",\"title\":\"Top Chief\",\"rid\":\"4306\",\"difficulty\":\"10\",\"activitytype\":1,\"trailtype\":\"1\",\"biketype\":\"1,2\",\"physical_rating\":\"3\",\"ttfs\":\"54,17,16,18,15\",\"wet_weather\":\"1\",\"season\":\"May-Sept\",\"unsanctioned\":\"0\",\"hidden\":\"0\",\"rating\":\"93\",\"votes\":\"19\",\"ridden\":\"370\",\"faved\":\"2\",\"status\":\"1\",\"products\":\"\",\"total_comments\":\"0\",\"total_photos\":\"29\",\"total_videos\":\"6\",\"total_reports\":\"4\",\"total_poi\":\"0\",\"total_supporters\":\"0\",\"total_osmways\":\"6\",\"created\":\"1414199320\",\"changed\":\"1528192706\",\"last_comment_ts\":\"0\",\"last_report_ts\":\"1569782105\",\"last_totals_ts\":\"1570393567\",\"alias\":\"top-chief\",\"approved\":\"0\",\"userid\":\"447595\",\"published\":\"1\",\"dirty\":\"0\",\"views\":\"14729\",\"trackid\":\"188583\",\"condition\":\"4\",\"confirmid\":\"8589\",\"download_disable\":\"0\",\"usage\":\"1\",\"direction\":\"2\",\"opendate\":\"1241161200\",\"strava_segment\":\"2240710\",\"strava_segment_reverse\":\"0\",\"legacy_id\":\"0\",\"closed\":\"0\",\"climb_difficulty\":\"0\",\"land_manager\":\"\",\"land_manager_manual\":\"0\",\"refnum\":\"\",\"global_rank\":\"2023\",\"global_rank_score\":\"52.585\",\"total_checkins\":\"804\",\"total_ridelogs\":\"677\",\"land_manager_url\":\"\",\"aka\":\"Red Giant\",\"search_terms\":\"\",\"search\":\"Top Chief Red Giant\",\"featured_photo\":\"0\",\"featured_video\":\"0\",\"skidmap_id\":\"0\",\"osmway\":\"0\",\"password\":\"\",\"funding_goal\":\"1000\",\"funding_usd\":\"0\",\"funding_currency\":\"\",\"watchmen\":\"0\",\"cleanup\":\"0\",\"cleanup2\":\"0\",\"cleanup3\":\"\",\"leaderboard_disable\":\"0\",\"popularity_colour\":\"ff1e00\",\"popularity_score\":\"95\",\"season_type\":\"0\",\"alpine\":\"0\",\"ebike\":\"0\",\"color\":\"\",\"archived\":\"0\",\"disable_sensitive_check\":\"0\",\"planned\":\"0\",\"family_friendly\":\"0\",\"total_socialmedia\":\"0\",\"hide_association\":\"0\",\"cover_photo\":\"15259621\",\"trail_association\":\"0\",\"direction_flagged\":\"0\",\"direction_forward\":\"99\",\"direction_backward\":\"1\",\"inventory_exclude\":\"0\",\"difficulty_user_avg\":\"10\",\"difficulty_votes\":\"3\",\"imagemap3\":\"1\",\"connector\":\"0\",\"sac_scale\":\"0\",\"trail_visibility\":\"0\",\"datasource\":\"tf\",\"verified\":\"1\",\"snow_grooming\":\"0\",\"osm_import_job\":\"0\",\"dogs_allowed\":\"1\",\"restricted_access\":\"0\",\"amtb_rating\":\"0\",\"id\":\"18708\",\"type\":\"trail\",\"description\":\"Board walk top section with fast sections and tight corners. Mid section along the ridge contains some board walk and natural bed rock with small features. Lower ridge line involves steep technical sections and an optional drop some technical bed rock sections that are both steep and rough. Bottom of the track opens up into fast flowy corners with loose surface and some jumps and features.\\\\r\\\\n\\\\r\\\\nWas called the [L=https://www.trailforks.com/trails/red-giant/] Red Giant[/L], has now been renamed and regraded black as of the 2018 season\",\"access_info\":\"Trail is assessed from Gondola Uplift and trail head can be found next to the Quad Chair Uplift\",\"source_text\":\"\",\"source_link\":\"\",\"disclaimer\":\"\",\"amtb_info\":\"\",\"act_mtb\":\"1\",\"act_ebike\":\"0\",\"act_hike\":\"0\",\"act_moto\":\"0\",\"act_trailrun\":\"0\",\"act_atv\":\"0\",\"act_snowshoe\":\"0\",\"act_skialpine\":\"0\",\"act_skixc\":\"0\",\"act_skibc\":\"0\",\"act_horse\":\"0\",\"act_snowmobile\":\"0\",\"act_mototrials\":\"0\",\"latitude\":\"56.835150\",\"longitude\":\"-4.977400\",\"activitytypes\":[1],\"track\":{\"latitude\":\"56.83515,56.83511,56.835,56.83491,56.8349,56.83486,56.83489,56.83484,56.83483,56.83473,56.83454,56.83455,56.83472,56.8348,56.8348,56.83494,56.83541,56.83543,56.83538,56.83544,56.83557,56.8356,56.83562,56.83567,56.83607,56.83631,56.83652,56.83658,56.83667,56.83672,56.83671,56.83646,56.83658,56.83657,56.83616,56.83612,56.8361,56.83605,56.83608,56.83616,56.83622,56.83662,56.83672,56.83705,56.83727,56.83731,56.83736,56.83739,56.83715,56.83694,56.83704,56.83728,56.83732,56.83759,56.83779,56.83791,56.83795,56.83789,56.83785,56.83796,56.83824,56.83856,56.8386,56.83863,56.83866,56.83881,56.83885,56.83891,56.83903,56.83915,56.83927,56.83934,56.83953,56.83993,56.84003,56.8401,56.8401,56.83995,56.83996,56.8402,56.84037,56.84041,56.84053,56.8406,56.84063,56.84067,56.8407,56.84074,56.8409,56.84099,56.84108,56.84112,56.84111,56.84116,56.84123,56.84125,56.8412,56.84124,56.84131,56.84135,56.84143,56.84145,56.84147,56.84151,56.84165,56.84165,56.84173,56.84178,56.84198,56.84211,56.84215,56.84226,56.84237,56.8424,56.84243,56.84251,56.84254,56.84263,56.84272,56.84282,56.84298,56.84299,56.84291,56.84287,56.84294,56.84297,56.84308,56.84319,56.84334,56.84339,56.84356,56.84372,56.844,56.84406,56.84408,56.84413,56.84418,56.84424,56.84432,56.84449,56.84459,56.84476,56.84484,56.84487,56.84493,56.84504,56.84515,56.84521,56.84531,56.84542,56.8455,56.84561,56.84565,56.84569,56.84578,56.84593,56.84601,56.84619,56.84623,56.84646,56.84657,56.84667,56.84683,56.84683,56.8469,56.84708,56.84737,56.84755,56.84761,56.84767,56.84778,56.84782,56.847916\",\"longitude\":\"-4.9774,-4.97779,-4.97828,-4.97879,-4.97929,-4.97975,-4.9802,-4.98072,-4.98123,-4.98226,-4.9836,-4.98372,-4.98426,-4.98494,-4.98508,-4.98576,-4.98644,-4.98625,-4.9859,-4.98597,-4.9863,-4.98631,-4.98545,-4.98545,-4.98653,-4.98709,-4.98773,-4.98858,-4.98896,-4.98996,-4.99011,-4.99093,-4.99168,-4.99179,-4.99221,-4.99233,-4.99279,-4.99304,-4.99337,-4.99358,-4.99365,-4.99377,-4.99373,-4.99346,-4.99317,-4.99317,-4.99326,-4.99336,-4.99492,-4.99526,-4.99566,-4.99603,-4.99606,-4.99602,-4.99588,-4.99566,-4.99566,-4.99582,-4.99651,-4.99695,-4.99709,-4.99703,-4.99705,-4.99709,-4.99743,-4.99789,-4.99791,-4.99785,-4.99733,-4.99706,-4.99702,-4.99681,-4.99695,-4.99696,-4.99706,-4.99729,-4.99735,-4.99799,-4.99806,-4.99831,-4.99827,-4.99824,-4.99798,-4.9977,-4.99768,-4.9977,-4.99775,-4.99775,-4.99746,-4.99753,-4.99743,-4.99717,-4.99709,-4.99702,-4.99702,-4.99695,-4.99679,-4.9967,-4.99674,-4.99681,-4.99709,-4.99733,-4.9973,-4.99698,-4.99641,-4.99614,-4.99613,-4.99604,-4.99542,-4.99543,-4.9954,-4.99501,-4.9948,-4.99456,-4.99451,-4.99445,-4.99435,-4.9943,-4.99411,-4.99404,-4.99362,-4.99332,-4.99297,-4.99291,-4.99268,-4.99264,-4.99264,-4.99256,-4.99229,-4.99228,-4.99236,-4.99264,-4.99273,-4.99277,-4.99289,-4.99298,-4.99301,-4.99299,-4.99219,-4.99211,-4.9923,-4.99231,-4.99219,-4.99132,-4.99125,-4.99126,-4.99109,-4.99107,-4.99112,-4.99108,-4.99059,-4.99046,-4.99039,-4.9902,-4.99005,-4.9901,-4.9901,-4.99025,-4.99045,-4.99076,-4.99119,-4.99125,-4.99194,-4.99208,-4.99228,-4.99257,-4.99269,-4.99294,-4.99296,-4.99296,-4.9927,-4.99268,-4.992793\",\"altitude\":\"642.2,641.5,641.9,640.5,636.5,633.7,629.6,626.6,622.4,616.8,612,611,605.2,599.5,598.9,598,585.3,583.3,583,581.1,577.9,576.8,573.4,571.6,556.6,546.4,538.6,537.1,531.5,522.8,521.8,519.6,509.8,508.9,504.8,503,497.3,493.8,490.3,488.5,488.2,485.7,485,484.3,482.6,481.5,479.4,477.7,467.4,465,459.3,454.3,454,454.8,455.5,455,454.6,454.8,450.6,445.4,444.4,444.3,443.6,442.9,439.5,431.4,430.9,431.3,436.5,435.9,434,433.1,429.7,422.4,420.6,420,420.2,419.4,418.7,411.3,408.5,408.1,408.2,407.6,406.8,405.4,404.1,402.8,399.8,396.5,394.5,392.7,392.8,391.1,388.8,387.9,389.3,387.4,385.1,383.8,381.4,381.1,380.3,378.2,370.1,367.8,365.3,363.2,351.8,347.8,346.4,340.5,336.2,334,332.9,330.5,329.1,325.8,321.6,317.7,310.3,308.7,309.6,310.4,307.7,306.8,303.9,300.8,295.9,294.5,289.9,285.7,277.6,275.8,275.3,273.9,272.3,270.4,268,263,259.8,254.9,252.7,252.2,250.4,247.2,243.7,241.8,239,235.9,232.5,229.3,228.2,226.8,224.3,220.4,218.3,215.1,214.7,211,210.1,208.5,206.6,206.6,204.8,199.9,191.9,186.6,185.1,183.7,182.3,181.4,178.6\",\"distance\":\"0,24.122,56.32,88.897,119.313,147.628,175.187,207.283,238.307,301.901,386.054,393.433,431.308,473.591,482.102,526.271,592.879,604.641,626.631,634.541,659.262,662.651,714.978,720.534,799.819,843.064,888.431,940.53,965.702,1026.744,1035.93,1092.996,1140.498,1147.276,1199.503,1208.045,1236.096,1252.277,1272.613,1288.169,1296.079,1341.124,1352.499,1392.676,1422.816,1427.261,1435.059,1441.992,1540.5,1571.673,1598.407,1633.295,1638.1,1668.202,1692.001,1710.886,1715.331,1727.123,1769.301,1798.708,1830.966,1866.713,1871.321,1875.447,1896.381,1928.934,1933.542,1941.142,1975.448,1996.594,2010.149,2025.097,2047.861,2092.315,2104.981,2120.979,2124.626,2166.948,2171.346,2202.041,2221.088,2225.892,2246.57,2265.282,2268.83,2273.438,2277.949,2282.394,2307.431,2318.3,2330.003,2346.419,2351.407,2358.405,2366.184,2370.984,2382.184,2389.233,2397.383,2403.536,2422.737,2437.493,2440.368,2460.319,2498.297,2514.708,2523.619,2531.416,2575.165,2589.624,2594.428,2621.098,2638.771,2653.734,2658.245,2667.854,2674.786,2685.239,2700.516,2712.415,2743.524,2761.791,2784.846,2790.595,2806.593,2810.719,2822.943,2836.098,2859.489,2865.078,2884.585,2909.197,2940.789,2947.886,2955.51,2963.307,2969.155,2975.932,3025.359,3044.866,3060.892,3079.793,3091.292,3144.271,3152.18,3164.419,3180.424,3187.201,3198.721,3211.184,3242.262,3256.817,3262.97,3275.343,3288.875,3305.818,3314.708,3336.69,3349.632,3381.384,3410.234,3421.929,3467.476,3475.984,3490.414,3517.073,3550.114,3575.232,3582.009,3588.677,3608.654,3613.262,3625.949\",\"encodedPath\":\"ur{yIvck]FlAT`BPdB@bBFzAExAHfB@dBRlEd@jGAVa@jBOfC?Z[fC}AfCCe@HeAKLY`AE@CkDI?oAvEo@nBi@~BKhDQjAIfE@\\\\\\\\p@bDWtC@TpArAFVBzAHp@E`AOh@KLoAVSGaAu@k@y@G?IPERn@vHh@bASnAo@hAGDu@Gg@[Wk@G?J^FhCUvAw@Z_AKGBEFEbA]zAGBKKWgBWu@WGMi@e@ZoA@SRMl@?J\\\\\\\\~BALo@p@a@GGEWs@Mw@ECGBEHG?_@y@QLQSGs@@OIMM?CMH_@GQMFGLOv@Cn@CEG_A[qB?u@OAIQg@{BY@GEUmAUi@Eo@EIOKESQIQe@SM_@sAA{@NeAFKMm@EGU?UO]u@IAa@N_@v@w@PKFCVIPIDKCO_Da@OSd@a@@OWEmDKMU@Ua@KCSHUGOaBUYGMGe@Q]]HO?c@\\\\\\\\Gf@m@|@UtASJ_@hC?ZMf@c@x@y@Vc@p@KBK?Us@GCQV\",\"encodedLevels\":\"P@?B?@@?B@@FA?@DE@C@@DAE?@FAA?DC@CAC@AE@BD@AB@EABEB?DBA@EABIB@D@A@E@@AADBEAC?@CE?B@B@?@BBBC?B@@AAE@A@G??ACAAB@B@@B?@@@@BDA@AE@@A@DAA?B?A@ECBBDACAAB@@CB?A@G?ABACAA@A@DA@CAB@P\"}},{\"trailid\":\"24253\",\"vid\":\"4\",\"title\":\"Voodoo\",\"rid\":\"4306\",\"difficulty\":\"4\",\"activitytype\":1,\"trailtype\":\"1\",\"biketype\":\"2,3\",\"physical_rating\":\"2\",\"ttfs\":\"\",\"wet_weather\":\"1\",\"season\":\"\",\"unsanctioned\":\"0\",\"hidden\":\"0\",\"rating\":\"80\",\"votes\":\"5\",\"ridden\":\"145\",\"faved\":\"0\",\"status\":\"1\",\"products\":\"\",\"total_comments\":\"0\",\"total_photos\":\"0\",\"total_videos\":\"0\",\"total_reports\":\"0\",\"total_poi\":\"0\",\"total_supporters\":\"0\",\"total_osmways\":\"0\",\"created\":\"1420594289\",\"changed\":\"1525968687\",\"last_comment_ts\":\"0\",\"last_report_ts\":\"0\",\"last_totals_ts\":\"1570036098\",\"alias\":\"voodoo-24253\",\"approved\":\"0\",\"userid\":\"898248\",\"published\":\"1\",\"dirty\":\"0\",\"views\":\"1134\",\"trackid\":\"89438\",\"condition\":\"0\",\"confirmid\":\"14113\",\"download_disable\":\"0\",\"usage\":\"1\",\"direction\":\"1\",\"opendate\":\"1388563200\",\"strava_segment\":\"6103419\",\"strava_segment_reverse\":\"0\",\"legacy_id\":\"0\",\"closed\":\"0\",\"climb_difficulty\":\"3\",\"land_manager\":\"\",\"land_manager_manual\":\"0\",\"refnum\":\"\",\"global_rank\":\"3445\",\"global_rank_score\":\"51.377\",\"total_checkins\":\"195\",\"total_ridelogs\":\"159\",\"land_manager_url\":\"\",\"aka\":\"Cats Eyes\",\"search_terms\":\"\",\"search\":\"Voodoo Cats Eyes\",\"featured_photo\":\"0\",\"featured_video\":\"0\",\"skidmap_id\":\"0\",\"osmway\":\"0\",\"password\":\"\",\"funding_goal\":\"1000\",\"funding_usd\":\"0\",\"funding_currency\":\"\",\"watchmen\":\"0\",\"cleanup\":\"0\",\"cleanup2\":\"0\",\"cleanup3\":\"\",\"leaderboard_disable\":\"0\",\"popularity_colour\":\"ffb700\",\"popularity_score\":\"65\",\"season_type\":\"0\",\"alpine\":\"0\",\"ebike\":\"0\",\"color\":\"\",\"archived\":\"0\",\"disable_sensitive_check\":\"0\",\"planned\":\"0\",\"family_friendly\":\"0\",\"total_socialmedia\":\"0\",\"hide_association\":\"0\",\"cover_photo\":\"0\",\"trail_association\":\"0\",\"direction_flagged\":\"0\",\"direction_forward\":\"99\",\"direction_backward\":\"1\",\"inventory_exclude\":\"0\",\"difficulty_user_avg\":\"0\",\"difficulty_votes\":\"0\",\"imagemap3\":\"1\",\"connector\":\"0\",\"sac_scale\":\"0\",\"trail_visibility\":\"0\",\"datasource\":\"tf\",\"verified\":\"1\",\"snow_grooming\":\"0\",\"osm_import_job\":\"0\",\"dogs_allowed\":\"1\",\"restricted_access\":\"0\",\"amtb_rating\":\"0\",\"id\":\"24253\",\"type\":\"trail\",\"description\":\"Originally called [L=https://www.trailforks.com/trails/cats-eyes/] Cats Eyes[/L], now regraded (as of 2018) from green to blue and renamed Voodoo.\\\\r\\\\n\\\\r\\\\nWith roll over features it can be ridden as a flat track or utilising the big wide open berms, with a rolling trail through the trees beside a burn.  Finishes in the main Nevis Range car park.\\\\r\\\\nAt least 1.5m wide, it can be ridden by a trailer bike\\\\r\\\\nAccessed by a 2km climb\",\"access_info\":\"\",\"source_text\":\"\",\"source_link\":\"\",\"disclaimer\":\"\",\"amtb_info\":\"\",\"act_mtb\":\"1\",\"act_ebike\":\"0\",\"act_hike\":\"0\",\"act_moto\":\"0\",\"act_trailrun\":\"0\",\"act_atv\":\"0\",\"act_snowshoe\":\"0\",\"act_skialpine\":\"0\",\"act_skixc\":\"0\",\"act_skibc\":\"0\",\"act_horse\":\"0\",\"act_snowmobile\":\"0\",\"act_mototrials\":\"0\",\"latitude\":\"56.848300\",\"longitude\":\"-4.986700\",\"activitytypes\":[1],\"track\":{\"latitude\":\"56.8483,56.84844,56.84848,56.84856,56.84863,56.84884,56.84889,56.84901,56.84912,56.84927,56.84943,56.84942,56.84948,56.84968,56.84965,56.8497,56.84979,56.84988,56.84995,56.84997,56.84994,56.84989,56.84986,56.84989,56.84995,56.84999,56.85008,56.85024,56.85028,56.85031,56.85031,56.85035,56.85041,56.85047,56.8505,56.85057,56.85063,56.85063,56.8506,56.85065,56.8507,56.85075,56.85089,56.85095,56.85103,56.85102,56.85104,56.85109,56.85114,56.85116,56.85123,56.85131,56.85133,56.85123,56.85124,56.8513,56.85134,56.85142\",\"longitude\":\"-4.9867,-4.98706,-4.98744,-4.98776,-4.98781,-4.98752,-4.98734,-4.98726,-4.98722,-4.98729,-4.98771,-4.9881,-4.98828,-4.98853,-4.98896,-4.98926,-4.98933,-4.98933,-4.98937,-4.98951,-4.98967,-4.98974,-4.98995,-4.99011,-4.99018,-4.99032,-4.99043,-4.99055,-4.99063,-4.99085,-4.99101,-4.9911,-4.9911,-4.99094,-4.99078,-4.99076,-4.99086,-4.99104,-4.99117,-4.99132,-4.99124,-4.99111,-4.99093,-4.99094,-4.99119,-4.99134,-4.99149,-4.99147,-4.99119,-4.99097,-4.99076,-4.99078,-4.99106,-4.99177,-4.99192,-4.99198,-4.99198,-4.9921\",\"altitude\":\"193.325,192.888,192.157,191.126,190.59,189.658,189.6,188.434,187.269,185.318,182.23,181.211,179.474,174.428,174.026,171.587,169.184,167.415,165.72,164.223,163.504,163.837,162.868,161.433,160.106,158.766,156.959,154.112,153.093,151.47,150.603,149.581,148.78,148.791,149.183,148.298,146.98,146.127,145.907,144.459,144.241,144.195,142.886,141.881,139.507,138.832,137.637,136.953,137.745,138.386,138.182,136.813,135.269,132.963,131.938,130.649,130.002,128.026\",\"distance\":\"0,26.845,50.361,71.743,80.094,109.337,121.606,135.8,148.263,165.466,196.571,220.296,233.106,260.027,286.369,305.427,316.295,326.296,334.446,343.239,353.517,360.515,373.704,383.982,391.891,401.49,413.519,432.736,439.323,453.101,462.824,469.872,476.54,488.329,498.607,506.48,515.501,526.439,535.013,545.688,553.071,562.729,581.747,588.442,606.043,615.225,624.607,630.295,648.193,661.745,676.69,685.663,702.822,747.373,756.555,764.154,768.599,780.097\",\"encodedPath\":\"{d~yIz}l][fAGlAO|@MHi@y@Ic@WOUG]L_@rA@lAKb@g@p@DtAIz@QLQ?MFCZD^HLDj@E\\\\\\\\KLGZQT_@VGPEh@?^GRK?Ka@E_@MCKR?b@DZIZIMI[[c@K@Op@@\\\\\\\\C\\\\\\\\ICIw@Ck@Mi@OBCv@RlCA^KHG?OV\",\"encodedLevels\":\"PA@AEAC?BDBBABAC@@CA@@AC@A@@B?@EA?ADA?AC?@AD@?DA?@BD@@C@@P\"}}]}'"
      ]
     },
     "execution_count": 161,
     "metadata": {},
     "output_type": "execute_result"
    }
   ],
   "source": [
    "response_trailforks.content"
   ]
  },
  {
   "cell_type": "code",
   "execution_count": 167,
   "metadata": {},
   "outputs": [
    {
     "name": "stderr",
     "output_type": "stream",
     "text": [
      "/usr/local/lib/python3.7/site-packages/ipykernel_launcher.py:25: RuntimeWarning: invalid value encountered in true_divide\n"
     ]
    },
    {
     "data": {
      "text/plain": [
       "Text(0, 0.5, 'Trail: Top Chief, Fort William (normalized)')"
      ]
     },
     "execution_count": 167,
     "metadata": {},
     "output_type": "execute_result"
    },
    {
     "data": {
      "image/png": "[encoded data removed]",
      "text/plain": [
       "<Figure size 1200x400 with 1 Axes>"
      ]
     },
     "metadata": {},
     "output_type": "display_data"
    }
   ],
   "source": [
    "figure(num=None, figsize=(15, 5), dpi=80, facecolor='w', edgecolor='k')\n",
    "\n",
    "\n",
    "trailforks_difficulties = [0]\n",
    "osm_difficulties = [0]\n",
    "physical_ratings = [0]\n",
    "\n",
    "for closest_item in closest_items:\n",
    "    difficulty = closest_item['difficulty'] if 'difficulty' in closest_item else trailforks_difficulties[-1]\n",
    "    mtb_scale = closest_item['mtb:scale'] if 'mtb:scale' in closest_item else osm_difficulties[-1]\n",
    "    physical_rating = closest_item['physical_rating'] if 'physical_rating' in closest_item else physical_ratings[-1]\n",
    "    trailforks_difficulties.append(difficulty)\n",
    "    osm_difficulties.append(mtb_scale)\n",
    "    physical_ratings.append(physical_rating)\n",
    "    \n",
    "trailforks_difficulty_results = np.array(trailforks_difficulties).astype(int) \n",
    "osm_difficulty_results = np.array(osm_difficulties).astype(int) \n",
    "physical_ratings_results = np.array(physical_ratings).astype(int) \n",
    "\n",
    "altitude_dif = np.array(get_values_for(filtered_split_data_dif, 'altitude')[1::25])\n",
    "speed_dif = np.array(get_values_for(filtered_split_data_dif, 'speed')[1::25])\n",
    "heart_rate_dif = np.array(get_values_for(filtered_split_data_dif, 'heart_rate')[1::25])\n",
    "\n",
    "norm_dif_trailforks = np.divide(trailforks_difficulty_results, 11)\n",
    "norm_dif_osm = osm_difficulty_results / osm_difficulty_results.max(axis=0)\n",
    "norm_speed = speed_dif / speed_dif.max(axis=0)\n",
    "norm_altitude = altitude_dif / altitude_dif.max(axis=0)\n",
    "norm_physical_ratings = np.divide(physical_ratings_results, 4)\n",
    "\n",
    "if len(heart_rate_dif):\n",
    "    norm_heart_rate = heart_rate_dif / heart_rate_dif.max(axis=0)\n",
    "\n",
    "plt.plot(norm_dif_trailforks)\n",
    "#plt.plot(norm_dif_osm)\n",
    "plt.plot(norm_physical_ratings)\n",
    "plt.plot(norm_speed)\n",
    "plt.plot(norm_altitude)\n",
    "if len(heart_rate_dif):\n",
    "    plt.plot(norm_heart_rate)\n",
    "#plt.legend(['Difficulty Trailforks', 'Difficulty OSM', 'Physical Ratings', 'Speed', 'Altitude', 'Heart Rate'])\n",
    "plt.legend(['Difficulty', 'Physical Rating', 'Speed', 'Altitude', 'Heart Rate'])\n",
    "plt.ylabel('Trail: Top Chief, Fort William (normalized)')\n"
   ]
  },
  {
   "cell_type": "code",
   "execution_count": null,
   "metadata": {},
   "outputs": [],
   "source": []
  }
 ],
 "metadata": {
  "kernelspec": {
   "display_name": "Python 3",
   "language": "python",
   "name": "python3"
  },
  "language_info": {
   "codemirror_mode": {
    "name": "ipython",
    "version": 3
   },
   "file_extension": ".py",
   "mimetype": "text/x-python",
   "name": "python",
   "nbconvert_exporter": "python",
   "pygments_lexer": "ipython3",
   "version": "3.7.4"
  }
 },
 "nbformat": 4,
 "nbformat_minor": 2
}
